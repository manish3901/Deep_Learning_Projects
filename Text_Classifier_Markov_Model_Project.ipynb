{
  "nbformat": 4,
  "nbformat_minor": 0,
  "metadata": {
    "colab": {
      "provenance": []
    },
    "kernelspec": {
      "name": "python3",
      "display_name": "Python 3"
    },
    "language_info": {
      "name": "python"
    }
  },
  "cells": [
    {
      "cell_type": "markdown",
      "source": [
        "##Project : Markov Model Classifier / Poetry generator"
      ],
      "metadata": {
        "id": "R5ZagsHyGxUR"
      }
    },
    {
      "cell_type": "code",
      "execution_count": null,
      "metadata": {
        "colab": {
          "base_uri": "https://localhost:8080/"
        },
        "id": "rs7NQwtiGjvt",
        "outputId": "f5fe5792-1e23-4677-96f1-3a3d13329f6d"
      },
      "outputs": [
        {
          "output_type": "stream",
          "name": "stdout",
          "text": [
            "--2023-06-30 11:41:52--  https://raw.githubusercontent.com/lazyprogrammer/machine_learning_examples/master/hmm_class/edgar_allan_poe.txt\n",
            "Resolving raw.githubusercontent.com (raw.githubusercontent.com)... 185.199.109.133, 185.199.110.133, 185.199.111.133, ...\n",
            "Connecting to raw.githubusercontent.com (raw.githubusercontent.com)|185.199.109.133|:443... connected.\n",
            "HTTP request sent, awaiting response... 200 OK\n",
            "Length: 26622 (26K) [text/plain]\n",
            "Saving to: ‘edgar_allan_poe.txt’\n",
            "\n",
            "edgar_allan_poe.txt 100%[===================>]  26.00K  --.-KB/s    in 0s      \n",
            "\n",
            "2023-06-30 11:41:52 (73.8 MB/s) - ‘edgar_allan_poe.txt’ saved [26622/26622]\n",
            "\n",
            "--2023-06-30 11:41:52--  https://raw.githubusercontent.com/lazyprogrammer/machine_learning_examples/master/hmm_class/robert_frost.txt\n",
            "Resolving raw.githubusercontent.com (raw.githubusercontent.com)... 185.199.108.133, 185.199.109.133, 185.199.110.133, ...\n",
            "Connecting to raw.githubusercontent.com (raw.githubusercontent.com)|185.199.108.133|:443... connected.\n",
            "HTTP request sent, awaiting response... 200 OK\n",
            "Length: 56286 (55K) [text/plain]\n",
            "Saving to: ‘robert_frost.txt’\n",
            "\n",
            "robert_frost.txt    100%[===================>]  54.97K  --.-KB/s    in 0.005s  \n",
            "\n",
            "2023-06-30 11:41:53 (11.0 MB/s) - ‘robert_frost.txt’ saved [56286/56286]\n",
            "\n"
          ]
        }
      ],
      "source": [
        "!wget -nc https://raw.githubusercontent.com/lazyprogrammer/machine_learning_examples/master/hmm_class/edgar_allan_poe.txt\n",
        "!wget -nc https://raw.githubusercontent.com/lazyprogrammer/machine_learning_examples/master/hmm_class/robert_frost.txt"
      ]
    },
    {
      "cell_type": "code",
      "source": [
        "#Lets go!"
      ],
      "metadata": {
        "id": "nBD6UDi1HDs4"
      },
      "execution_count": null,
      "outputs": []
    },
    {
      "cell_type": "code",
      "source": [
        "#import libraries\n",
        "import numpy as np\n",
        "import matplotlib.pyplot as plt\n",
        "from sklearn.model_selection import train_test_split\n",
        "import string  #string.punctuate method is good"
      ],
      "metadata": {
        "id": "4DfAVg3SHFli"
      },
      "execution_count": null,
      "outputs": []
    },
    {
      "cell_type": "code",
      "source": [
        "# assign a variable name to files\n",
        "input_files = ['edgar_allan_poe.txt','robert_frost.txt']"
      ],
      "metadata": {
        "id": "Cne5dXHIHi96"
      },
      "execution_count": null,
      "outputs": []
    },
    {
      "cell_type": "code",
      "source": [
        "input_files"
      ],
      "metadata": {
        "colab": {
          "base_uri": "https://localhost:8080/"
        },
        "id": "_Dl8lJeKH10i",
        "outputId": "d3bd2917-f63e-41f8-c8f8-b6a98dc5b47e"
      },
      "execution_count": null,
      "outputs": [
        {
          "output_type": "execute_result",
          "data": {
            "text/plain": [
              "['edgar_allan_poe.txt', 'robert_frost.txt']"
            ]
          },
          "metadata": {},
          "execution_count": 5
        }
      ]
    },
    {
      "cell_type": "code",
      "source": [
        "#Note: pd.read_csv would have also been fine."
      ],
      "metadata": {
        "id": "VlNQ2LwOH3V3"
      },
      "execution_count": null,
      "outputs": []
    },
    {
      "cell_type": "code",
      "source": [
        "!head edgar_allan_poe.txt"
      ],
      "metadata": {
        "colab": {
          "base_uri": "https://localhost:8080/"
        },
        "id": "04O9kPGlIIms",
        "outputId": "c63fd0e2-50ed-4d38-ce30-9e060fb9508a"
      },
      "execution_count": null,
      "outputs": [
        {
          "output_type": "stream",
          "name": "stdout",
          "text": [
            "LO! Death hath rear'd himself a throne\n",
            "In a strange city, all alone,\n",
            "Far down within the dim west\n",
            "Where the good, and the bad, and the worst, and the best,\n",
            "Have gone to their eternal rest.\n",
            " \n",
            "There shrines, and palaces, and towers\n",
            "Are not like any thing of ours\n",
            "Oh no! O no! ours never loom\n",
            "To heaven with that ungodly gloom!\n"
          ]
        }
      ]
    },
    {
      "cell_type": "code",
      "source": [
        "!head robert_frost.txt"
      ],
      "metadata": {
        "colab": {
          "base_uri": "https://localhost:8080/"
        },
        "id": "JIxRS83eIpPI",
        "outputId": "66800fcc-56b6-496d-c8b3-4bce9e295a3a"
      },
      "execution_count": null,
      "outputs": [
        {
          "output_type": "stream",
          "name": "stdout",
          "text": [
            "Two roads diverged in a yellow wood,\n",
            "And sorry I could not travel both\n",
            "And be one traveler, long I stood\n",
            "And looked down one as far as I could\n",
            "To where it bent in the undergrowth; \n",
            "\n",
            "Then took the other, as just as fair,\n",
            "And having perhaps the better claim\n",
            "Because it was grassy and wanted wear,\n",
            "Though as for that the passing there\n"
          ]
        }
      ]
    },
    {
      "cell_type": "markdown",
      "source": [
        "**The Punctuation Marks:**\n",
        "Comma,\n",
        "Period/Full Stop,\n",
        "Colon,\n",
        "Ellipsis,\n",
        "Semicolon,\n",
        "Apostrophe,\n",
        "Hyphen,\n",
        "Dash,\n",
        "Quotation Marks,\n",
        "Question Mark,\n",
        "Exclamation Point,\n",
        "Slash,\n",
        "Parentheses and Brackets.."
      ],
      "metadata": {
        "id": "4FBESUK0JUM0"
      }
    },
    {
      "cell_type": "code",
      "source": [
        "for label,f in enumerate(input_files):\n",
        "  print(f\"{f} corresponds to label{label}\")"
      ],
      "metadata": {
        "colab": {
          "base_uri": "https://localhost:8080/"
        },
        "id": "dw4TIGSzK66c",
        "outputId": "e4fcc99e-c517-4248-c3b9-711f18a330a6"
      },
      "execution_count": null,
      "outputs": [
        {
          "output_type": "stream",
          "name": "stdout",
          "text": [
            "edgar_allan_poe.txt corresponds to label0\n",
            "robert_frost.txt corresponds to label1\n"
          ]
        }
      ]
    },
    {
      "cell_type": "code",
      "source": [
        "with open('edgar_allan_poe.txt') as f:\n",
        "  f = f.read()"
      ],
      "metadata": {
        "id": "LEhiGKS2LO5_"
      },
      "execution_count": null,
      "outputs": []
    },
    {
      "cell_type": "code",
      "source": [
        "f"
      ],
      "metadata": {
        "colab": {
          "base_uri": "https://localhost:8080/",
          "height": 140
        },
        "id": "jSzXdzq8Lc0I",
        "outputId": "f73297da-60da-4604-f2fa-20d2e29a9bf4"
      },
      "execution_count": null,
      "outputs": [
        {
          "output_type": "execute_result",
          "data": {
            "text/plain": [
              "'LO! Death hath rear\\'d himself a throne\\nIn a strange city, all alone,\\nFar down within the dim west\\nWhere the good, and the bad, and the worst, and the best,\\nHave gone to their eternal rest.\\n\\u2009\\nThere shrines, and palaces, and towers\\nAre not like any thing of ours\\nOh no! O no! ours never loom\\nTo heaven with that ungodly gloom!\\nTime-eaten towers that tremble not!\\nResemble nothing that is ours.\\nAround, by lifting winds forgot,\\nResignedly beneath the sky\\nThe melancholy waters lie.\\n\\u2009\\nNo holy rays from heaven come down\\nOn the long night-time of that town,\\nBut light from out the lurid sea\\nStreams up the turrets silently\\nUp thrones up long-forgotten bowers\\nOf scultur\\'d ivy and stone flowers\\nUp domes up spires up kingly halls\\nUp fanes up Babylon-like walls\\nUp many a melancholy shrine\\nWhose entablatures intertwine\\nThe mask the viol and the vine.\\n\\u2009\\nThere open temples open graves\\nAre on a level with the waves\\nBut not the riches there that lie\\nIn each idol\\'s diamond eye,\\nNot the gaily-jewell\\'d dead\\nTempt the waters from their bed:\\nFor no ripples curl, alas!\\nAlong that wilderness of glass\\nNo swellings hint that winds may be\\nUpon a far-off happier sea:\\nSo blend the turrets and shadows there\\nThat all seem pendulous in air,\\nWhile from the high towers of the town\\nDeath looks gigantically down.\\n\\u2009\\nBut lo! a stir is in the air!\\nThe wave there is a ripple there!\\nAs if the towers had thrown aside,\\nIn slightly sinking, the dull tide\\nAs if the turret-tops had given\\nA vacuum in the filmy heaven.\\nThe waves have now a redder glow\\nThe very hours are breathing low\\nAnd when, amid no earthly moans,\\nDown, down, that town shall settle hence,\\nAll Hades, from a thousand thrones,\\nShall do it reverence,\\nAnd Death to some more happy clime\\nShall give his undivided time.\\n\\nThe skies they were ashen and sober;\\nThe leaves they were crisped and sere -\\nThe leaves they were withering and sere;\\nIt was night in the lonesome October\\nOf my most immemorial year;\\nIt was hard by the dim lake of Auber,\\nIn the misty mid region of Weir -\\nIt was down by the dank tarn of Auber,\\nIn the ghoul-haunted woodland of Weir.\\n\\nHere once, through an alley Titanic,\\nOf cypress, I roamed with my Soul -\\nOf cypress, with Psyche, my Soul.\\nThese were days when my heart was volcanic\\nAs the scoriac rivers that roll -\\nAs the lavas that restlessly roll\\nTheir sulphurous currents down Yaanek\\nIn the ultimate climes of the pole -\\nThat groan as they roll down Mount Yaanek\\nIn the realms of the boreal pole.\\n\\nOur talk had been serious and sober,\\nBut our thoughts they were palsied and sere -\\nOur memories were treacherous and sere, -\\nFor we knew not the month was October,\\nAnd we marked not the night of the year -\\n(Ah, night of all nights in the year!)\\nWe noted not the dim lake of Auber -\\n(Though once we had journey down here),\\nRemembered not the dank tarn of Auber,\\nNor the ghoul-haunted woodland of Weir.\\n\\nAnd now, as the night was senescent,\\nAnd star-dials pointed to morn -\\nAs the star-dials hinted of morn -\\nAt the end of our path a liquescent\\nAnd nebulous lustre was born,\\nOut of which a miraculous crescent\\nArose with a duplicate horn -\\nAstarte\\'s bediamonded crescent\\nDistinct with its duplicate horn.\\n\\nAnd I said - \"She is warmer than Dian:\\nShe rolls through an ether of sighs -\\nShe revels in a region of sighs:\\nShe has seen that the tears are not dry on\\nThese cheeks, where the worm never dies,\\nAnd has come past the stars of the Lion\\nTo point us the path to the skies -\\nTo the Lethean peace of the skies -\\nCome up, in despite of the Lion,\\nTo shine on us with her bright eyes -\\nCome up through the lair of the Lion,\\nWith love in her luminous eyes.\"\\n\\nBut Psyche, uplifting her finger,\\nSaid - \"Sadly this star I mistrust -\\nHer pallor I strangely mistrust: -\\nOh, hasten! - oh, let us not linger!\\nOh, fly! - let us fly! - for we must.\"\\nIn terror she spoke, letting sink her\\nWings until they trailed in the dust -\\nIn agony sobbed, letting sink her\\nPlumes till they trailed in the dust -\\nTill they sorrowfully trailed in the dust.\\n\\nI replied - \"This is nothing but dreaming:\\nLet us on by this tremulous light!\\nLet us bathe in this crystalline light!\\nIts Sybilic splendor is beaming\\nWith Hope and in Beauty to-night! -\\nSee! - it flickers up the sky through the night!\\nAh, we safely may trust to its gleaming,\\nAnd be sure it will lead us aright -\\nWe safely may trust to a gleaming,\\nThat cannot but guide us aright,\\nSince it flickers up to Heaven through the night.\"\\n\\nThus I pacified Psyche and kissed her,\\nAnd tempted her out of her gloom -\\nAnd conquered her scruples and gloom;\\nAnd we passed to the end of the vista,\\nBut were stopped by the door of a tomb -\\nBy the door of a legended tomb;\\nAnd I said - \"What is written, sweet sister,\\nOn the door of this legended tomb?\"\\nShe replied - \"Ulalume - Ulalume -\\n‘Tis the vault of thy lost Ulalume!\"\\n\\nThen my heart it grew ashen and sober\\nAs the leaves that were crisped and sere -\\nAs the leaves that were withering and sere,\\nAnd I cried - \"It was surely October\\nOn this very night of last year\\nThat I journeyed - I journeyed down here -\\nThat I brought a dread burden down here!\\nOn this night of all nights in the year,\\nAh, what demon has tempted me here?\\nWell I know, now, this dim lake of Auber -\\nThis misty mid region of Weir -\\nWell I know, now, this dank tarn of Auber, -\\nThis ghoul-haunted woodland of Weir.\"\\n\\nWreathed in myrtle, my sword I\\'ll conceal\\nLike those champions devoted and brave,\\nWhen they plunged in the tyrant their steel,\\nAnd to Athens deliverance gave. \\n\\nBeloved heroes! your deathless souls roam\\nIn the joy breathing isles of the blest;\\nWhere the mighty of old have their home -\\nWhere Achilles and Diomed rest. \\n\\nIn fresh myrtle my blade I\\'ll entwine,\\nLike Harmodious, the gallant and good,\\nWhen he made at the tutelar shrine\\nA libation of Tyranny\\'s blood. \\n\\nYe deliverers of Athens from shame!\\nYe avengers of Liberty\\'s wrongs!\\nEndless ages shall cherish your fame\\nEmbalmed in their echoing songs!\\n\\nOf all who hail thy presence as the morning-\\nOf all to whom thine absence is the night-\\nThe blotting utterly from out high heaven\\nThe sacred sun- of all who, weeping, bless thee\\nHourly for hope- for life- ah! above all,\\nFor the resurrection of deep-buried faith\\nIn Truth- in Virtue- in Humanity-\\nOf all who, on Despair\\'s unhallowed bed\\nLying down to die, have suddenly arisen\\nAt thy soft-murmured words, \\'Let there be light!\\'\\nAt the soft-murmured words that were fulfilled\\nIn the seraphic glancing of thine eyes-\\nOf all who owe thee most- whose gratitude\\nNearest resembles worship- oh, remember\\nThe truest- the most fervently devoted,\\nAnd think that these weak lines are written by him-\\nBy him who, as he pens them, thrills to think\\nHis spirit is communing with an angel\\'s. \\n\\nThou wouldst be loved?- then let thy heart\\nFrom its present pathway part not!\\nBeing everything which now thou art,\\nBe nothing which thou art not.\\nSo with the world thy gentle ways,\\nThy grace, thy more than beauty,\\nShall be an endless theme of praise,\\nAnd love- a simple duty. \\n\\nWhen from your gems of thought I turn \\nTo those pure orbs, your heart to learn, \\nI scarce know which to prize most high \\nThe bright i-dea, or the bright dear-eye.\\n\\nOf all who hail thy presence as the morning-\\nOf all to whom thine absence is the night-\\nThe blotting utterly from out high heaven\\nThe sacred sun- of all who, weeping, bless thee\\nHourly for hope- for life- ah! above all,\\nFor the resurrection of deep-buried faith\\nIn Truth- in Virtue- in Humanity-\\nOf all who, on Despair\\'s unhallowed bed\\nLying down to die, have suddenly arisen\\nAt thy soft-murmured words, \"Let there be light!\"\\nAt the soft-murmured words that were fulfilled\\nIn the seraphic glancing of thine eyes-\\nOf all who owe thee most- whose gratitude\\nNearest resembles worship- oh, remember\\nThe truest- the most fervently devoted,\\nAnd think that these weak lines are written by him-\\nBy him who, as he pens them, thrills to think\\nHis spirit is communing with an angel\\'s.\\n\\nFair isle, that from the fairest of all flowers,\\nThy gentlest of all gentle names dost take!\\nHow many memories of what radiant hours\\nAt sight of thee and thine at once awake!\\nHow many scenes of what departed bliss!\\nHow many thoughts of what entombed hopes!\\nHow many visions of a maiden that is\\nNo more- no more upon thy verdant slopes!\\nNo more! alas, that magical sad sound\\nTransforming all! Thy charms shall please no more-\\nThy memory no more! Accursed ground\\nHenceforth I hold thy flower-enameled shore,\\nO hyacinthine isle! O purple Zante!\\n\"Isola d\\'oro! Fior di Levante!\"\\n\\nO! I care not that my earthly lot\\nHath little of Earth in it,\\nThat years of love have been forgot\\nIn the fever of a minute:\\n\\nI heed not that the desolate\\nAre happier, sweet, than I,\\nBut that you meddle with my fate\\nWho am a passer by.\\n\\nIt is not that my founts of bliss\\nAre gushing- strange! with tears-\\nOr that the thrill of a single kiss\\nHath palsied many years-\\n\\n\\'Tis not that the flowers of twenty springs\\nWhich have wither\\'d as they rose\\nLie dead on my heart-strings\\nWith the weight of an age of snows.\\n\\nNot that the grass- O! may it thrive!\\nOn my grave is growing or grown-\\nBut that, while I am dead yet alive\\nI cannot be, lady, alone.\\n\\nSancta Maria! turn thine eyes -\\nUpon the sinner\\'s sacrifice,\\nOf fervent prayer and humble love,\\nFrom thy holy throne above. \\nAt morn - at noon - at twilight dim -\\nMaria! thou hast heard my hymn!\\nIn joy and wo - in good and ill -\\nMother of God, be with me still! \\n\\nWhen the Hours flew brightly by,\\nAnd not a cloud obscured the sky,\\nMy soul, lest it should truant be,\\nThy grace did guide to thine and thee; \\n\\nNow, when storms of Fate o\\'ercast\\nDarkly my Present and my Past,\\nLet my Future radiant shine\\nWith sweet hopes of thee and thine!\\n\\nThe bells! ah, the bells! \\nThe little silver bells! \\nHow fairy-like a melody there floats \\nFrom their throats. \\nFrom their merry little throats \\nFrom the silver, tinkling throats \\nOf the bells, bells, bells \\nOf the bells! \\n\\nThe bells! ah, the bells! \\nThe heavy iron bells! \\nHow horrible a monody there floats \\nFrom their throats \\nFrom their deep-toned throats \\nFrom their melancholy throats! \\nHow I shudder at the notes \\nOf the bells, bells, bells \\nOf the bells!\\n\\nHow often we forget all time, when lone\\nAdmiring Nature\\'s universal throne;\\nHer woods- her wilds- her mountains- the intense\\nReply of HERS to OUR intelligence!\\n\\nIn youth have I known one with whom the Earth\\nIn secret communing held- as he with it,\\nIn daylight, and in beauty from his birth:\\nWhose fervid, flickering torch of life was lit\\nFrom the sun and stars, whence he had drawn forth\\nA passionate light- such for his spirit was fit-\\nAnd yet that spirit knew not, in the hour\\nOf its own fervor what had o\\'er it power.\\n\\nPerhaps it may be that my mind is wrought\\nTo a fever by the moonbeam that hangs o\\'er,\\nBut I will half believe that wild light fraught\\nWith more of sovereignty than ancient lore\\nHath ever told- or is it of a thought\\nThe unembodied essence, and no more,\\nThat with a quickening spell doth o\\'er us pass\\nAs dew of the night-time o\\'er the summer grass?\\n\\nDoth o\\'er us pass, when, as th\\' expanding eye\\nTo the loved object- so the tear to the lid\\nWill start, which lately slept in apathy?\\nAnd yet it need not be- (that object) hid\\nFrom us in life- but common- which doth lie\\nEach hour before us- but then only, bid\\nWith a strange sound, as of a harp-string broken,\\nTo awake us- \\'Tis a symbol and a token\\n\\nOf what in other worlds shall be- and given\\nIn beauty by our God, to those alone\\nWho otherwise would fall from life and Heaven\\nDrawn by their heart\\'s passion, and that tone,\\nThat high tone of the spirit which hath striven,\\nTho\\' not with Faith- with godliness- whose throne\\nWith desperate energy \\'t hath beaten down;\\nWearing its own deep feeling as a crown.\\n\\nNot long ago, the writer of these lines,\\nIn the mad pride of intellectuality,\\nMaintained \"the power of words\"- denied that ever\\nA thought arose within the human brain\\nBeyond the utterance of the human tongue:\\nAnd now, as if in mockery of that boast,\\nTwo words- two foreign soft dissyllables-\\nItalian tones, made only to be murmured\\nBy angels dreaming in the moonlit \"dew\\nThat hangs like chains of pearl on Hermon hill,\"\\nHave stirred from out the abysses of his heart,\\nUnthought-like thoughts that are the souls of thought,\\nRicher, far wilder, far diviner visions\\nThan even seraph harper, Israfel,\\n(Who has \"the sweetest voice of all God\\'s creatures,\")\\nCould hope to utter. And I! my spells are broken.\\nThe pen falls powerless from my shivering hand.\\nWith thy dear name as text, though bidden by thee,\\nI cannot write- I cannot speak or think-\\nAlas, I cannot feel; for \\'tis not feeling,\\nThis standing motionless upon the golden\\nThreshold of the wide-open gate of dreams.\\nGazing, entranced, adown the gorgeous vista,\\nAnd thrilling as I see, upon the right,\\nUpon the left, and all the way along,\\nAmid empurpled vapors, far away\\nTo where the prospect terminates- thee only.\\n\\nBeloved! amid the earnest woes\\nThat crowd around my earthly path-\\n(Drear path, alas! where grows\\nNot even one lonely rose)-\\nMy soul at least a solace hath\\nIn dreams of thee, and therein knows\\nAn Eden of bland repose.\\n\\nAnd thus thy memory is to me\\nLike some enchanted far-off isle\\nIn some tumultuous sea-\\nSome ocean throbbing far and free\\nWith storms- but where meanwhile\\nSerenest skies continually\\nJust o\\'er that one bright island smile.\\n\\nI saw thee once- once only- years ago: \\nI must not say how many- but not many. \\nIt was a July midnight; and from out \\nA full-orbed moon, that, like thine own soul, soaring, \\nSought a precipitate pathway up through heaven, \\nThere fell a silvery-silken veil of light, \\nWith quietude, and sultriness, and slumber, \\nUpon the upturned faces of a thousand \\nRoses that grew in an enchanted garden, \\nWhere no wind dared to stir, unless on tiptoe- \\nFell on the upturn\\'d faces of these roses \\nThat gave out, in return for the love-light, \\nTheir odorous souls in an ecstatic death- \\nFell on the upturn\\'d faces of these roses \\nThat smiled and died in this parterre, enchanted \\nBy thee, and by the poetry of thy presence. \\nClad all in white, upon a violet bank \\nI saw thee half reclining; while the moon \\nFell on the upturn\\'d faces of the roses, \\nAnd on thine own, upturn\\'d- alas, in sorrow! \\n\\nWas it not Fate, that, on this July midnight- \\nWas it not Fate, (whose name is also Sorrow,) \\nThat bade me pause before that garden-gate, \\nTo breathe the incense of those slumbering roses? \\nNo footstep stirred: the hated world an slept, \\nSave only thee and me. (Oh, Heaven!- oh, God! \\nHow my heart beats in coupling those two words!) \\nSave only thee and me. I paused- I looked- \\nAnd in an instant all things disappeared. \\n(Ah, bear in mind this garden was enchanted!) \\n\\nThe pearly lustre of the moon went out: \\nThe mossy banks and the meandering paths, \\nThe happy flowers and the repining trees, \\nWere seen no more: the very roses\\' odors \\nDied in the arms of the adoring airs. \\nAll- all expired save thee- save less than thou: \\nSave only the divine light in thine eyes- \\nSave but the soul in thine uplifted eyes. \\nI saw but them- they were the world to me! \\nI saw but them- saw only them for hours, \\nSaw only them until the moon went down. \\nWhat wild heart-histories seemed to he enwritten \\nUpon those crystalline, celestial spheres! \\nHow dark a woe, yet how sublime a hope! \\nHow silently serene a sea of pride! \\nHow daring an ambition; yet how deep- \\nHow fathomless a capacity for love! \\n\\nBut now, at length, dear Dian sank from sight, \\nInto a western couch of thunder-cloud; \\nAnd thou, a ghost, amid the entombing trees \\nDidst glide away. Only thine eyes remained; \\nThey would not go- they never yet have gone; \\nLighting my lonely pathway home that night, \\nThey have not left me (as my hopes have) since; \\nThey follow me- they lead me through the years. \\nThey are my ministers- yet I their slave. \\nTheir office is to illumine and enkindle- \\nMy duty, to be saved by their bright light, \\nAnd purified in their electric fire, \\nAnd sanctified in their elysian fire. \\nThey fill my soul with Beauty (which is Hope), \\nAnd are far up in Heaven- the stars I kneel to \\nIn the sad, silent watches of my night; \\nWhile even in the meridian glare of day \\nI see them still- two sweetly scintillant \\nVenuses, unextinguished by the sun!\\n\\nThe bowers whereat, in dreams, I see\\nThe wantonest singing birds,\\nAre lips- and all thy melody\\nOf lip-begotten words-\\n\\nThine eyes, in Heaven of heart enshrined,\\nThen desolately fall,\\nO God! on my funereal mind\\nLike starlight on a pall-\\n\\nThy heart- thy heart!- I wake and sigh,\\nAnd sleep to dream till day\\nOf the truth that gold can never buy-\\nOf the baubles that it may.\\n\\nIn Heaven a spirit doth dwell\\n\"Whose heart-strings are a lute\";\\nNone sing so wildly well\\nAs the angel Israfel,\\nAnd the giddy stars (so legends tell),\\nCeasing their hymns, attend the spell\\nOf his voice, all mute.\\n\\nTottering above\\nIn her highest noon,\\nThe enamored moon\\nBlushes with love,\\nWhile, to listen, the red levin\\n(With the rapid Pleiads, even,\\nWhich were seven,)\\nPauses in Heaven.\\n\\nAnd they say (the starry choir\\nAnd the other listening things)\\nThat Israfeli\\'s fire\\nIs owing to that lyre\\nBy which he sits and sings-\\nThe trembling living wire\\nOf those unusual strings.\\n\\nBut the skies that angel trod,\\nWhere deep thoughts are a duty-\\nWhere Love\\'s a grown-up God-\\nWhere the Houri glances are\\nImbued with all the beauty\\nWhich we worship in a star.\\n\\nTherefore thou art not wrong,\\nIsrafeli, who despisest\\nAn unimpassioned song;\\nTo thee the laurels belong,\\nBest bard, because the wisest!\\nMerrily live, and long!\\n\\nThe ecstasies above\\nWith thy burning measures suit-\\nThy grief, thy joy, thy hate, thy love,\\nWith the fervor of thy lute-\\nWell may the stars be mute!\\n\\nYes, Heaven is thine; but this\\nIs a world of sweets and sours;\\nOur flowers are merely- flowers,\\nAnd the shadow of thy perfect bliss\\nIs the sunshine of ours.\\n\\nIf I could dwell\\nWhere Israfel\\nHath dwelt, and he where I,\\nHe might not sing so wildly well\\nA mortal melody,\\nWhile a bolder note than this might swell\\nFrom my lyre within the sky.\\n\\nScience! true daughter of Old Time thou art!\\nWho alterest all things with thy peering eyes.\\nWhy preyest thou thus upon the poet\\'s heart,\\nVulture, whose wings are dull realities?\\nHow should he love thee? or how deem thee wise,\\nWho wouldst not leave him in his wandering\\nTo seek for treasure in the jewelled skies,\\nAlbeit he soared with an undaunted wing?\\nHast thou not dragged Diana from her car?\\nAnd driven the Hamadryad from the wood\\nTo seek a shelter in some happier star?\\nHast thou not torn the Naiad from her flood,\\nThe Elfin from the green grass, and from me\\nThe summer dream beneath the tamarind tree?\\n\\nI\\'ll tell you a plan for gaining wealth,\\nBetter than banking, trade or leases \\nTake a bank note and fold it up, \\nAnd then you will find your money in creases! \\nThis wonderful plan, without danger or loss, \\nKeeps your cash in your hands, where nothing can trouble it; \\nAnd every time that you fold it across, \\n\\'Tis as plain as the light of the day that you double it!\\n\\nThe skies they were ashen and sober;\\nThe leaves they were crisped and sere-\\nThe leaves they were withering and sere;\\nIt was night in the lonesome October\\nOf my most immemorial year;\\nIt was hard by the dim lake of Auber,\\nIn the misty mid region of Weir-\\nIt was down by the dank tarn of Auber,\\nIn the ghoul-haunted woodland of Weir.\\n\\nHere once, through an alley Titanic,\\nOf cypress, I roamed with my Soul-\\nOf cypress, with Psyche, my Soul.\\nThere were days when my heart was volcanic\\nAs the scoriac rivers that roll-\\nAs the lavas that restlessly roll\\nTheir sulphurous currents down Yaanek\\nIn the ultimate climes of the pole-\\nThat groan as they roll down Mount Yaanek\\nIn the realms of the boreal pole.\\n\\nOur talk had been serious and sober,\\nBut our thoughts they were palsied and sere-\\nOur memories were treacherous and sere-\\nFor we knew not the month was October,\\nAnd we marked not the night of the year-\\n(Ah, night of all nights in the year!)\\nWe noted not the dim lake of Auber-\\n(Though once we had journeyed down here),\\nRemembered not the dank tarn of Auber,\\nNor the ghoul-haunted woodland of Weir.\\n\\nAnd now, as the night was senescent,\\nAnd star-dials pointed to morn-\\nAs the star-dials hinted of morn-\\nAt the end of our path a liquescent\\nAnd nebulous lustre was born,\\nOut of which a miraculous crescent\\nArose with a duplicate horn-\\nAstarte\\'s bediamonded crescent\\nDistinct with its duplicate horn.\\n\\nAnd I said- \\'She is warmer than Dian:\\nShe rolls through an ether of sighs-\\nShe revels in a region of sighs:\\nShe has seen that the tears are not dry on\\nThese cheeks, where the worm never dies,\\nAnd has come past the stars of the Lion,\\nTo point us the path to the skies-\\nTo the Lethean peace of the skies-\\nCome up, in despite of the Lion,\\nTo shine on us with her bright eyes-\\nCome up through the lair of the Lion,\\nWith love in her luminous eyes.\\'\\n\\nBut Psyche, uplifting her finger,\\nSaid- \\'Sadly this star I mistrust-\\nHer pallor I strangely mistrust:-\\nOh, hasten!- oh, let us not linger!\\nOh, fly!- let us fly!- for we must.\\'\\nIn terror she spoke, letting sink her\\nWings until they trailed in the dust-\\nIn agony sobbed, letting sink her\\nPlumes till they trailed in the dust-\\nTill they sorrowfully trailed in the dust.\\n\\nI replied- \\'This is nothing but dreaming:\\nLet us on by this tremulous light!\\nLet us bathe in this crystalline light!\\nIts Sybilic splendor is beaming\\nWith Hope and in Beauty to-night:-\\nSee!- it flickers up the sky through the night!\\nAh, we safely may trust to its gleaming,\\nAnd be sure it will lead us aright-\\nWe safely may trust to a gleaming\\nThat cannot but guide us aright,\\nSince it flickers up to Heaven through the night.\\'\\n\\nThus I pacified Psyche and kissed her,\\nAnd tempted her out of her gloom-\\nAnd conquered her scruples and gloom;\\nAnd we passed to the end of the vista,\\nBut were stopped by the door of a tomb-\\nBy the door of a legended tomb;\\nAnd I said- \\'What is written, sweet sister,\\nOn the door of this legended tomb?\\'\\nShe replied- \\'Ulalume- Ulalume-\\n\\'Tis the vault of thy lost Ulalume!\\'\\n\\nThen my heart it grew ashen and sober\\nAs the leaves that were crisped and sere-\\nAs the leaves that were withering and sere-\\nAnd I cried- \\'It was surely October\\nOn this very night of last year\\nThat I journeyed- I journeyed down here-\\nThat I brought a dread burden down here-\\nOn this night of all nights in the year,\\nAh, what demon has tempted me here?\\nWell I know, now, this dim lake of Auber-\\nThis misty mid region of Weir-\\nWell I know, now, this dank tarn of Auber,\\nThis ghoul-haunted woodland of Weir.\\' \\n\\nHow often we forget all time, when lone \\nAdmiring Nature\\'s universal throne; \\nHer woods - her winds - her mountains - the intense \\nReply of Hers to Our intelligence! \\n\\nIn youth I have known one with whom the Earth \\nIn secret communing held - as he with it, \\nIn daylight, and in beauty, from his birth: \\nWhose fervid, flickering torch of life was lit \\nFrom the sun and stars, whence he had drawn forth \\nA passionate light - such for his spirit was fit - \\nAnd yet that spirit knew - not in the hour \\nOf its own fervour - what had o\\'er it power. \\n\\nPerhaps it may be that my mind is wrought \\nTo a fever by the moonbeam that hangs o\\'er, \\nBut I will half believe that wild light fraught \\nWith more of sovereignty than ancient lore \\nHath ever told - or is it of a thought \\nThe unembodied essence, and no more \\nThat with a quickening spell doth o\\'er us pass \\nAs dew of the night time, o\\'er the summer grass? \\n\\nDoth o\\'er us pass, when as th\\' expanding eye \\nTo the loved object - so the tear to the lid \\nWill start, which lately slept in apathy? \\nAnd yet it need not be - (that object) hid \\nFrom us in life - but common - which doth lie \\nEach hour before us - but then only bid \\nWith a strange sound, as of a harpstring broken \\nT\\' awake us - \\'Tis a symbol and a token - \\n\\nOf what in other worlds shall be - and given \\nIn beauty by our God, to those alone \\nWho otherwise would fall from life and Heaven \\nDrawn by their heart\\'s passion, and that tone, \\nThat high tone of the spirit which hath striven \\nThough not with Faith - with godliness - whose throne \\nWith desperate energy \\'t hath beaten down; \\nWearing its own deep feeling as a crown.\\n\\n\\'Tis said that when \\nThe hands of men \\nTamed this primeval wood, \\nAnd hoary trees with groans of woe, \\nLike warriors by an unknown foe, \\nWere in their strength subdued, \\nThe virgin Earth Gave instant birth \\nTo springs that ne\\'er did flow \\nThat in the sun Did rivulets run, \\nAnd all around rare flowers did blow \\nThe wild rose pale Perfumed the gale \\nAnd the queenly lily adown the dale \\n(Whom the sun and the dew \\nAnd the winds did woo), \\nWith the gourd and the grape luxuriant grew. \\n\\nSo when in tears \\nThe love of years \\nIs wasted like the snow, \\nAnd the fine fibrils of its life \\nBy the rude wrong of instant strife \\nAre broken at a blow \\nWithin the heart \\nDo springs upstart \\nOf which it doth now know, \\nAnd strange, sweet dreams, \\nLike silent streams \\nThat from new fountains overflow, \\nWith the earlier tide \\nOf rivers glide \\nDeep in the heart whose hope has died-- \\nQuenching the fires its ashes hide,-- \\nIts ashes, whence will spring and grow \\nSweet flowers, ere long, \\nThe rare and radiant flowers of song!\\n\\nIn the greenest of our valleys,\\nBy good angels tenanted,\\nOnce fair and stately palace --\\nRadiant palace --reared its head.\\nIn the monarch Thought\\'s dominion --\\nIt stood there!\\nNever seraph spread a pinion\\nOver fabric half so fair.\\n\\nBanners yellow, glorious, golden,\\nOn its roof did float and flow;\\n(This --all this --was in the olden\\nTime long ago)\\nAnd every gentle air that dallied,\\nIn that sweet day,\\nAlong the ramparts plumed and pallid,\\nA winged odour went away.\\n\\nWanderers in that happy valley\\nThrough two luminous windows saw\\nSpirits moving musically\\nTo a lute\\'s well-tuned law,\\nRound about a throne, where sitting\\n(Porphyrogene!)\\nIn state his glory well befitting,\\nThe ruler of the realm was seen.\\n\\nAnd all with pearl and ruby glowing\\nWas the fair palace door,\\nThrough which came flowing, flowing, flowing\\nAnd sparkling evermore,\\nA troop of Echoes whose sweet duty\\nWas but to sing,\\nIn voices of surpassing beauty,\\nThe wit and wisdom of their king.\\n\\nBut evil things, in robes of sorrow,\\nAssailed the monarch\\'s high estate;\\n(Ah, let us mourn, for never morrow\\nShall dawn upon him, desolate!)\\nAnd, round about his home, the glory\\nThat blushed and bloomed\\nIs but a dim-remembered story\\nOf the old time entombed.\\n\\nAnd travellers now within that valley,\\nThrough the red-litten windows, see\\nVast forms that move fantastically\\nTo a discordant melody;\\nWhile, like a rapid ghastly river,\\nThrough the pale door,\\nA hideous throng rush out forever,\\nAnd laugh --but smile no more.'"
            ],
            "application/vnd.google.colaboratory.intrinsic+json": {
              "type": "string"
            }
          },
          "metadata": {},
          "execution_count": 16
        }
      ]
    },
    {
      "cell_type": "code",
      "source": [
        "#collect data into a list\n",
        "\n",
        "input_text = []\n",
        "labels = []\n",
        "\n",
        "for label,f in enumerate(input_files):\n",
        "  print(f\"{f} corresponds to label{label}\")\n",
        "\n",
        "  for line in open(f):\n",
        "    line = line.rstrip().lower()  #rstrip to remove \\n from text\n",
        "    if line:      #if line is true or line is not empty\n",
        "      #remove punctuation\n",
        "      line = line.translate(str.maketrans('','',string.punctuation))\n",
        "      input_text.append(line)\n",
        "      labels.append(label)"
      ],
      "metadata": {
        "colab": {
          "base_uri": "https://localhost:8080/"
        },
        "id": "mYX1CWvdIt0d",
        "outputId": "800abf14-6e1e-4b28-cf19-2c9b5715d3c1"
      },
      "execution_count": null,
      "outputs": [
        {
          "output_type": "stream",
          "name": "stdout",
          "text": [
            "edgar_allan_poe.txt corresponds to label0\n",
            "robert_frost.txt corresponds to label1\n"
          ]
        }
      ]
    },
    {
      "cell_type": "code",
      "source": [
        "#Lets do train test split\n",
        "#X_train,X_test ,y_train,y_test = train_test_split(X,y)\n",
        "#X = input_texts , y = labels\n",
        "text_train,text_test ,y_train,y_test = train_test_split(input_text,labels)"
      ],
      "metadata": {
        "id": "IVEbywJlL9wy"
      },
      "execution_count": null,
      "outputs": []
    },
    {
      "cell_type": "code",
      "source": [
        "#Our y (label)\n",
        "len(y_train), len(y_test)"
      ],
      "metadata": {
        "colab": {
          "base_uri": "https://localhost:8080/"
        },
        "id": "0xpbMA8bNJfa",
        "outputId": "5b6358bb-f78a-4695-d5fc-583af55704c6"
      },
      "execution_count": null,
      "outputs": [
        {
          "output_type": "execute_result",
          "data": {
            "text/plain": [
              "(1615, 539)"
            ]
          },
          "metadata": {},
          "execution_count": 22
        }
      ]
    },
    {
      "cell_type": "code",
      "source": [
        "#Our X (feature/text)\n",
        "len(text_train),len(text_test)"
      ],
      "metadata": {
        "colab": {
          "base_uri": "https://localhost:8080/"
        },
        "id": "HXZlxaryNSdK",
        "outputId": "a1913d37-5ab8-4d2e-c79d-2ca73a4cdcf7"
      },
      "execution_count": null,
      "outputs": [
        {
          "output_type": "execute_result",
          "data": {
            "text/plain": [
              "(1615, 539)"
            ]
          },
          "metadata": {},
          "execution_count": 26
        }
      ]
    },
    {
      "cell_type": "code",
      "source": [
        "text_train[:5]  #random line of text w/o punctuation"
      ],
      "metadata": {
        "colab": {
          "base_uri": "https://localhost:8080/"
        },
        "id": "TBnK_35gNXU7",
        "outputId": "3b390b33-a35d-47e5-b089-3335ef162bfc"
      },
      "execution_count": null,
      "outputs": [
        {
          "output_type": "execute_result",
          "data": {
            "text/plain": [
              "['will start which lately slept in apathy',\n",
              " 'to drag down man',\n",
              " 'where loves a grownup god',\n",
              " 'to seek for treasure in the jewelled skies',\n",
              " 'thats what i sit up in the dark to say']"
            ]
          },
          "metadata": {},
          "execution_count": 28
        }
      ]
    },
    {
      "cell_type": "code",
      "source": [
        "y_train[:5]"
      ],
      "metadata": {
        "colab": {
          "base_uri": "https://localhost:8080/"
        },
        "id": "qlKOv47GNuCm",
        "outputId": "cae47309-cdfe-4622-a003-220d964d13f9"
      },
      "execution_count": null,
      "outputs": [
        {
          "output_type": "execute_result",
          "data": {
            "text/plain": [
              "[0, 1, 0, 0, 1]"
            ]
          },
          "metadata": {},
          "execution_count": 30
        }
      ]
    },
    {
      "cell_type": "code",
      "source": [
        "#convert text to integers (word2idx)\n",
        "idx = 1 #index start at 1\n",
        "word2idx = {'<unk>': 0}  #give index 0 for any unkn words in test set"
      ],
      "metadata": {
        "id": "5BpJn-TlN1fA"
      },
      "execution_count": null,
      "outputs": []
    },
    {
      "cell_type": "code",
      "source": [
        "#Now populate word2idx\n",
        "for text in text_train:\n",
        "  tokens = text.split()   #split the text\n",
        "\n",
        "  for token in tokens:\n",
        "    if token not in word2idx:\n",
        "      word2idx[token] = idx   #if word not in word2idx dict,add word with unique index\n",
        "      idx += 1"
      ],
      "metadata": {
        "id": "RKZTVfWCOjM3"
      },
      "execution_count": null,
      "outputs": []
    },
    {
      "cell_type": "code",
      "source": [
        "word2idx  # word to index mapping"
      ],
      "metadata": {
        "colab": {
          "base_uri": "https://localhost:8080/"
        },
        "id": "K-gwVYlZPGpy",
        "outputId": "9be3400a-8fdd-401d-b0ea-a233d9c65a3e"
      },
      "execution_count": null,
      "outputs": [
        {
          "output_type": "execute_result",
          "data": {
            "text/plain": [
              "{'<unk>': 0,\n",
              " 'will': 1,\n",
              " 'start': 2,\n",
              " 'which': 3,\n",
              " 'lately': 4,\n",
              " 'slept': 5,\n",
              " 'in': 6,\n",
              " 'apathy': 7,\n",
              " 'to': 8,\n",
              " 'drag': 9,\n",
              " 'down': 10,\n",
              " 'man': 11,\n",
              " 'where': 12,\n",
              " 'loves': 13,\n",
              " 'a': 14,\n",
              " 'grownup': 15,\n",
              " 'god': 16,\n",
              " 'seek': 17,\n",
              " 'for': 18,\n",
              " 'treasure': 19,\n",
              " 'the': 20,\n",
              " 'jewelled': 21,\n",
              " 'skies': 22,\n",
              " 'thats': 23,\n",
              " 'what': 24,\n",
              " 'i': 25,\n",
              " 'sit': 26,\n",
              " 'up': 27,\n",
              " 'dark': 28,\n",
              " 'say': 29,\n",
              " 'deep': 30,\n",
              " 'heart': 31,\n",
              " 'whose': 32,\n",
              " 'hope': 33,\n",
              " 'has': 34,\n",
              " 'died': 35,\n",
              " 'its': 36,\n",
              " 'twothousandmile': 37,\n",
              " 'coast': 38,\n",
              " 'he': 39,\n",
              " 'steered': 40,\n",
              " 'was': 41,\n",
              " 'really': 42,\n",
              " 'straight': 43,\n",
              " 'away': 44,\n",
              " 'it': 45,\n",
              " 'looks': 46,\n",
              " 'as': 47,\n",
              " 'if': 48,\n",
              " 'some': 49,\n",
              " 'magic': 50,\n",
              " 'of': 51,\n",
              " 'sun': 52,\n",
              " 'and': 53,\n",
              " 'we': 54,\n",
              " 'marked': 55,\n",
              " 'not': 56,\n",
              " 'night': 57,\n",
              " 'year': 58,\n",
              " 'have': 59,\n",
              " 'passed': 60,\n",
              " 'by': 61,\n",
              " 'watchman': 62,\n",
              " 'on': 63,\n",
              " 'his': 64,\n",
              " 'beat': 65,\n",
              " 'save': 66,\n",
              " 'only': 67,\n",
              " 'thee': 68,\n",
              " 'me': 69,\n",
              " 'paused': 70,\n",
              " 'looked': 71,\n",
              " 'then': 72,\n",
              " 'cane': 73,\n",
              " 'one': 74,\n",
              " 'knock': 75,\n",
              " 'or': 76,\n",
              " 'beasts': 77,\n",
              " 'sake': 78,\n",
              " 'receipted': 79,\n",
              " 'cock': 80,\n",
              " 'is': 81,\n",
              " 'yard': 82,\n",
              " 'those': 83,\n",
              " 'bear': 84,\n",
              " 'keeping': 85,\n",
              " 'still': 86,\n",
              " 'about': 87,\n",
              " 'hes': 88,\n",
              " 'so': 89,\n",
              " 'far': 90,\n",
              " 'off': 91,\n",
              " 'cant': 92,\n",
              " 'see': 93,\n",
              " 'ive': 94,\n",
              " 'come': 95,\n",
              " 'purified': 96,\n",
              " 'their': 97,\n",
              " 'electric': 98,\n",
              " 'fire': 99,\n",
              " 'all': 100,\n",
              " 'around': 101,\n",
              " 'rare': 102,\n",
              " 'flowers': 103,\n",
              " 'did': 104,\n",
              " 'blow': 105,\n",
              " 'except': 106,\n",
              " 'seemed': 107,\n",
              " 'poetesss': 108,\n",
              " 'poems': 109,\n",
              " 'she': 110,\n",
              " 'seems': 111,\n",
              " 'housework': 112,\n",
              " 'besides': 113,\n",
              " 'ought': 114,\n",
              " 'be': 115,\n",
              " 'rain': 116,\n",
              " 'sometime': 117,\n",
              " 'joy': 118,\n",
              " 'breathing': 119,\n",
              " 'isles': 120,\n",
              " 'blest': 121,\n",
              " 'more': 122,\n",
              " 'unfettered': 123,\n",
              " 'threw': 124,\n",
              " 'myself': 125,\n",
              " 'wetelbowed': 126,\n",
              " 'wetkneed': 127,\n",
              " 'at': 128,\n",
              " 'thy': 129,\n",
              " 'softmurmured': 130,\n",
              " 'words': 131,\n",
              " 'let': 132,\n",
              " 'there': 133,\n",
              " 'light': 134,\n",
              " 'plumes': 135,\n",
              " 'till': 136,\n",
              " 'they': 137,\n",
              " 'trailed': 138,\n",
              " 'dust': 139,\n",
              " 'with': 140,\n",
              " 'gourd': 141,\n",
              " 'grape': 142,\n",
              " 'luxuriant': 143,\n",
              " 'grew': 144,\n",
              " 'tell': 145,\n",
              " 'him': 146,\n",
              " 'everything': 147,\n",
              " 'having': 148,\n",
              " 'perhaps': 149,\n",
              " 'better': 150,\n",
              " 'claim': 151,\n",
              " 'thoughts': 152,\n",
              " 'are': 153,\n",
              " 'duty': 154,\n",
              " 'fathers': 155,\n",
              " 'side': 156,\n",
              " 'were': 157,\n",
              " 'got': 158,\n",
              " 'something': 159,\n",
              " 'had': 160,\n",
              " 'cried': 161,\n",
              " 'surely': 162,\n",
              " 'october': 163,\n",
              " 'left': 164,\n",
              " 'my': 165,\n",
              " 'hopes': 166,\n",
              " 'since': 167,\n",
              " 'from': 168,\n",
              " 'silver': 169,\n",
              " 'tinkling': 170,\n",
              " 'throats': 171,\n",
              " 'saw': 172,\n",
              " 'no': 173,\n",
              " 'stay': 174,\n",
              " 'unless': 175,\n",
              " 'stove': 176,\n",
              " 'dont': 177,\n",
              " 'donkeys': 178,\n",
              " 'ears': 179,\n",
              " 'suggest': 180,\n",
              " 'shake': 181,\n",
              " 'our': 182,\n",
              " 'own': 183,\n",
              " 'creaking': 184,\n",
              " 'buggy': 185,\n",
              " 'load': 186,\n",
              " 'grain': 187,\n",
              " 'resignedly': 188,\n",
              " 'beneath': 189,\n",
              " 'sky': 190,\n",
              " 'however': 191,\n",
              " 'natural': 192,\n",
              " 'give': 193,\n",
              " 'you': 194,\n",
              " 'your': 195,\n",
              " 'books': 196,\n",
              " 'her': 197,\n",
              " 'pallor': 198,\n",
              " 'strangely': 199,\n",
              " 'mistrust': 200,\n",
              " 'ready': 201,\n",
              " 'thought': 202,\n",
              " 'almost': 203,\n",
              " 'anything': 204,\n",
              " 'toffile': 205,\n",
              " 'gone': 206,\n",
              " 'bed': 207,\n",
              " 'alone': 208,\n",
              " 'never': 209,\n",
              " 'before': 210,\n",
              " 'kick': 211,\n",
              " 'two': 212,\n",
              " 'legs': 213,\n",
              " 'like': 214,\n",
              " 'an': 215,\n",
              " 'army': 216,\n",
              " 'mule': 217,\n",
              " 'this': 218,\n",
              " 'nights': 219,\n",
              " 'but': 220,\n",
              " 'unhouse': 221,\n",
              " 'took': 222,\n",
              " 'less': 223,\n",
              " 'traveled': 224,\n",
              " 'just': 225,\n",
              " 'dropped': 226,\n",
              " 'child': 227,\n",
              " 'picking': 228,\n",
              " 'faded': 229,\n",
              " 'blue': 230,\n",
              " 'any': 231,\n",
              " 'north': 232,\n",
              " 'south': 233,\n",
              " 'across': 234,\n",
              " 'headless': 235,\n",
              " 'aftermath': 236,\n",
              " 'must': 237,\n",
              " 'learned': 238,\n",
              " 'riding': 239,\n",
              " 'trains': 240,\n",
              " 'take': 241,\n",
              " 'always': 242,\n",
              " 'hers': 243,\n",
              " 'that': 244,\n",
              " 'new': 245,\n",
              " 'fountains': 246,\n",
              " 'overflow': 247,\n",
              " 'too': 248,\n",
              " 'technical': 249,\n",
              " 'three': 250,\n",
              " 'cards': 251,\n",
              " 'entertain': 252,\n",
              " 'birds': 253,\n",
              " 'hold': 254,\n",
              " 'think': 255,\n",
              " 'do': 256,\n",
              " 'things': 257,\n",
              " 'smash': 258,\n",
              " 'guess': 259,\n",
              " 'youd': 260,\n",
              " 'find': 261,\n",
              " 'fountain': 262,\n",
              " 'empty': 263,\n",
              " 'arthur': 264,\n",
              " 'amy': 265,\n",
              " 'know': 266,\n",
              " 'who': 267,\n",
              " 'witherd': 268,\n",
              " 'rose': 269,\n",
              " 'into': 270,\n",
              " 'western': 271,\n",
              " 'couch': 272,\n",
              " 'thundercloud': 273,\n",
              " 'fate': 274,\n",
              " 'name': 275,\n",
              " 'also': 276,\n",
              " 'sorrow': 277,\n",
              " 'grace': 278,\n",
              " 'than': 279,\n",
              " 'beauty': 280,\n",
              " 'hot': 281,\n",
              " 'enough': 282,\n",
              " 'first': 283,\n",
              " 'may': 284,\n",
              " 'both': 285,\n",
              " 'united': 286,\n",
              " 'strengths': 287,\n",
              " 'mountain': 288,\n",
              " 'fast': 289,\n",
              " 'art': 290,\n",
              " 'mean': 291,\n",
              " 'old': 292,\n",
              " 'cedar': 293,\n",
              " 'waterside': 294,\n",
              " 'bells': 295,\n",
              " 'ah': 296,\n",
              " 'town': 297,\n",
              " 'well—i—be—': 298,\n",
              " 'said': 299,\n",
              " 'journey': 300,\n",
              " 'field': 301,\n",
              " 'farm': 302,\n",
              " 'boss': 303,\n",
              " 'hens': 304,\n",
              " 'sat': 305,\n",
              " 'listening': 306,\n",
              " 'gave': 307,\n",
              " 'judgment': 308,\n",
              " 'wonder': 309,\n",
              " 'makebelieve': 310,\n",
              " 'wish': 311,\n",
              " 'crystal': 312,\n",
              " 'palace': 313,\n",
              " 'london': 314,\n",
              " 'imported': 315,\n",
              " 'great': 316,\n",
              " 'stop': 317,\n",
              " 'without': 318,\n",
              " 'farmhouse': 319,\n",
              " 'near': 320,\n",
              " 'estelle': 321,\n",
              " 'held': 322,\n",
              " 'purse': 323,\n",
              " 'folks': 324,\n",
              " 'thatd': 325,\n",
              " 'set': 326,\n",
              " 'wasnt': 327,\n",
              " 'anyone': 328,\n",
              " 'could': 329,\n",
              " 'leak': 330,\n",
              " 'emptied': 331,\n",
              " 'forty': 332,\n",
              " 'years': 333,\n",
              " 'john': 334,\n",
              " 'himself': 335,\n",
              " 'wont': 336,\n",
              " 'imagine': 337,\n",
              " 'weep': 338,\n",
              " 'little': 339,\n",
              " 'make': 340,\n",
              " 'them': 341,\n",
              " 'glad': 342,\n",
              " 'winter': 343,\n",
              " 'after': 344,\n",
              " 'halfpast': 345,\n",
              " 'lifting': 346,\n",
              " 'winds': 347,\n",
              " 'forgot': 348,\n",
              " 'im': 349,\n",
              " 'anywhere': 350,\n",
              " 'gods': 351,\n",
              " 'arent': 352,\n",
              " 'fond': 353,\n",
              " 'viewing': 354,\n",
              " 'nature': 355,\n",
              " 'lap': 356,\n",
              " 'until': 357,\n",
              " 'fade': 358,\n",
              " 'lips': 359,\n",
              " 'melody': 360,\n",
              " 'mans': 361,\n",
              " 'father': 362,\n",
              " 'killed': 363,\n",
              " 'radiant': 364,\n",
              " 'song': 365,\n",
              " 'out': 366,\n",
              " 'each': 367,\n",
              " 'hour': 368,\n",
              " 'us': 369,\n",
              " 'bid': 370,\n",
              " 'these': 371,\n",
              " 'weak': 372,\n",
              " 'lines': 373,\n",
              " 'written': 374,\n",
              " 'eyes': 375,\n",
              " 'unwilling': 376,\n",
              " 'explain': 377,\n",
              " 'makes': 378,\n",
              " 'worse': 379,\n",
              " 'blind': 380,\n",
              " 'how': 381,\n",
              " 'living': 382,\n",
              " 'when': 383,\n",
              " 'youre': 384,\n",
              " 'surest': 385,\n",
              " 'thing': 386,\n",
              " 'riders': 387,\n",
              " 'cold': 388,\n",
              " 'spring': 389,\n",
              " 'yet': 390,\n",
              " 'source': 391,\n",
              " 'oldbelievers': 392,\n",
              " 'talking': 393,\n",
              " 'get': 394,\n",
              " 'color': 395,\n",
              " 'music': 396,\n",
              " 'life': 397,\n",
              " 'pens': 398,\n",
              " 'thrills': 399,\n",
              " 'journeyed': 400,\n",
              " 'here': 401,\n",
              " 'darkly': 402,\n",
              " 'present': 403,\n",
              " 'past': 404,\n",
              " 'resemble': 405,\n",
              " 'nothing': 406,\n",
              " 'ours': 407,\n",
              " 'wheres': 408,\n",
              " 'made': 409,\n",
              " 'mind': 410,\n",
              " 'stand': 411,\n",
              " 'shall': 412,\n",
              " 'suspect': 413,\n",
              " 'am': 414,\n",
              " 'going': 415,\n",
              " 'well': 416,\n",
              " 'showed': 417,\n",
              " 'signs': 418,\n",
              " 'swamp': 419,\n",
              " 'choked': 420,\n",
              " 'oil': 421,\n",
              " 'windbreak': 422,\n",
              " 'trod': 423,\n",
              " 'uncomfortably': 424,\n",
              " 'crunching': 425,\n",
              " 'glass': 426,\n",
              " 'upon': 427,\n",
              " 'mother': 428,\n",
              " 'bones': 429,\n",
              " 'skeleton': 430,\n",
              " 'stopped': 431,\n",
              " 'door': 432,\n",
              " 'tomb': 433,\n",
              " 'maria': 434,\n",
              " 'thou': 435,\n",
              " 'hast': 436,\n",
              " 'heard': 437,\n",
              " 'hymn': 438,\n",
              " 'accept': 439,\n",
              " 'substitute': 440,\n",
              " 'shelfs': 441,\n",
              " 'clock': 442,\n",
              " 'vase': 443,\n",
              " 'picture': 444,\n",
              " 'reeled': 445,\n",
              " 'lurched': 446,\n",
              " 'bobbed': 447,\n",
              " 'checked': 448,\n",
              " 'very': 449,\n",
              " 'last': 450,\n",
              " 'hourly': 451,\n",
              " 'above': 452,\n",
              " 'changed': 453,\n",
              " 'tamed': 454,\n",
              " 'primeval': 455,\n",
              " 'wood': 456,\n",
              " 'allowed': 457,\n",
              " 'upside': 458,\n",
              " 'divine': 459,\n",
              " 'thine': 460,\n",
              " 'lost': 461,\n",
              " 'tongue': 462,\n",
              " 'came': 463,\n",
              " 'lookoff': 464,\n",
              " 'faced': 465,\n",
              " 'once': 466,\n",
              " 'kind': 467,\n",
              " 'day': 468,\n",
              " 'called': 469,\n",
              " 'weather': 470,\n",
              " 'breeder': 471,\n",
              " 'front': 472,\n",
              " 'hall': 473,\n",
              " 'id': 474,\n",
              " 'hitched': 475,\n",
              " 'can': 476,\n",
              " 'troubling': 477,\n",
              " 'granny': 478,\n",
              " 'though': 479,\n",
              " 'piano': 480,\n",
              " 'paint': 481,\n",
              " 'back': 482,\n",
              " 'country': 483,\n",
              " 'village': 484,\n",
              " 'cultures': 485,\n",
              " 'ill': 486,\n",
              " 'show': 487,\n",
              " 'sulphurous': 488,\n",
              " 'currents': 489,\n",
              " 'yaanek': 490,\n",
              " 'prove': 491,\n",
              " 'high': 492,\n",
              " 'girdle': 493,\n",
              " 'mark': 494,\n",
              " 'memory': 495,\n",
              " 'accursed': 496,\n",
              " 'ground': 497,\n",
              " 'sovereignty': 498,\n",
              " 'ancient': 499,\n",
              " 'lore': 500,\n",
              " 'warn': 501,\n",
              " 'many': 502,\n",
              " 'paddle': 503,\n",
              " 'blade': 504,\n",
              " 'birch': 505,\n",
              " 'struck': 506,\n",
              " 'hard': 507,\n",
              " 'cellar': 508,\n",
              " 'bottom': 509,\n",
              " 'someone': 510,\n",
              " 'wild': 511,\n",
              " 'apple': 512,\n",
              " 'trees': 513,\n",
              " 'young': 514,\n",
              " 'tender': 515,\n",
              " 'bark': 516,\n",
              " 'baubles': 517,\n",
              " 'stark': 518,\n",
              " 'gathered': 519,\n",
              " 'bow': 520,\n",
              " 'groan': 521,\n",
              " 'roll': 522,\n",
              " 'mount': 523,\n",
              " 'soul': 524,\n",
              " 'least': 525,\n",
              " 'solace': 526,\n",
              " 'hath': 527,\n",
              " 'days': 528,\n",
              " 'volcanic': 529,\n",
              " 'sadder': 530,\n",
              " 'consideration': 531,\n",
              " 'arose': 532,\n",
              " 'duplicate': 533,\n",
              " 'horn': 534,\n",
              " 'knew': 535,\n",
              " 'month': 536,\n",
              " 'ask': 537,\n",
              " 'joe': 538,\n",
              " 'queenly': 539,\n",
              " 'lily': 540,\n",
              " 'adown': 541,\n",
              " 'dale': 542,\n",
              " 'being': 543,\n",
              " 'now': 544,\n",
              " 'tended': 545,\n",
              " 'long': 546,\n",
              " 'lay': 547,\n",
              " 'dragged': 548,\n",
              " 'diana': 549,\n",
              " 'car': 550,\n",
              " 'heaven': 551,\n",
              " 'ungodly': 552,\n",
              " 'gloom': 553,\n",
              " 'whom': 554,\n",
              " 'absence': 555,\n",
              " 'brown': 556,\n",
              " 'such': 557,\n",
              " 'papered': 558,\n",
              " 'walls': 559,\n",
              " 'half': 560,\n",
              " 'believe': 561,\n",
              " 'fraught': 562,\n",
              " 'built': 563,\n",
              " 'stone': 564,\n",
              " 'baptismal': 565,\n",
              " 'font': 566,\n",
              " 'outdoors': 567,\n",
              " '2o3': 568,\n",
              " 'attic': 569,\n",
              " 'went': 570,\n",
              " 'invisible': 571,\n",
              " 'nothings': 572,\n",
              " 'good': 573,\n",
              " 'pays': 574,\n",
              " 'crosslegged': 575,\n",
              " 'desperate': 576,\n",
              " 'energy': 577,\n",
              " 't': 578,\n",
              " 'beaten': 579,\n",
              " 'home': 580,\n",
              " 'way': 581,\n",
              " 'house': 582,\n",
              " 'sunshine': 583,\n",
              " 'spoke': 584,\n",
              " 'lettered': 585,\n",
              " 'playhouse': 586,\n",
              " 'earnest': 587,\n",
              " 'friends': 588,\n",
              " 'secret': 589,\n",
              " 'communing': 590,\n",
              " 'felt': 591,\n",
              " 'same': 592,\n",
              " 'neck': 593,\n",
              " 'spare': 594,\n",
              " 'clothes': 595,\n",
              " 'blushes': 596,\n",
              " 'love': 597,\n",
              " 'truth': 598,\n",
              " 'virtue': 599,\n",
              " 'humanity': 600,\n",
              " 'anyway': 601,\n",
              " 'tells': 602,\n",
              " 'crystalline': 603,\n",
              " 'celestial': 604,\n",
              " 'spheres': 605,\n",
              " 'witch': 606,\n",
              " 'familiar': 607,\n",
              " 'spirits': 608,\n",
              " 'other': 609,\n",
              " 'worlds': 610,\n",
              " 'given': 611,\n",
              " 'time': 612,\n",
              " 'simple': 613,\n",
              " 'loss': 614,\n",
              " 'turn': 615,\n",
              " 'round': 616,\n",
              " 'saying': 617,\n",
              " 'meet': 618,\n",
              " 'elsewhere': 619,\n",
              " 'right': 620,\n",
              " 'matter': 621,\n",
              " 'palsied': 622,\n",
              " 'speaking': 623,\n",
              " 'dunnow': 624,\n",
              " 'build': 625,\n",
              " 'chimney': 626,\n",
              " 'clear': 627,\n",
              " 'yes': 628,\n",
              " 'counting': 629,\n",
              " 'dinners': 630,\n",
              " 'hill': 631,\n",
              " 'leaf': 632,\n",
              " 'been': 633,\n",
              " 'stir': 634,\n",
              " 'outsiders': 635,\n",
              " 'laurels': 636,\n",
              " 'belong': 637,\n",
              " 'between': 638,\n",
              " 'doesnt': 639,\n",
              " 'bad': 640,\n",
              " 'worst': 641,\n",
              " 'best': 642,\n",
              " 'fear': 643,\n",
              " 'treading': 644,\n",
              " 'road': 645,\n",
              " 'didnt': 646,\n",
              " 'recognize': 647,\n",
              " 'most': 648,\n",
              " 'would': 649,\n",
              " 'expense': 650,\n",
              " 'senescent': 651,\n",
              " 'behind': 652,\n",
              " 'headboard': 653,\n",
              " 'common': 654,\n",
              " 'doth': 655,\n",
              " 'lie': 656,\n",
              " 'rapid': 657,\n",
              " 'pleiads': 658,\n",
              " 'even': 659,\n",
              " 'fair': 660,\n",
              " 'isle': 661,\n",
              " 'fairest': 662,\n",
              " 'smarty': 663,\n",
              " 'spoiled': 664,\n",
              " 'safely': 665,\n",
              " 'trust': 666,\n",
              " 'gleaming': 667,\n",
              " 'vulture': 668,\n",
              " 'wings': 669,\n",
              " 'dull': 670,\n",
              " 'realities': 671,\n",
              " 'poor': 672,\n",
              " 'dear': 673,\n",
              " 'whats': 674,\n",
              " 'real': 675,\n",
              " 'trouble': 676,\n",
              " 'satisfy': 677,\n",
              " 'astartes': 678,\n",
              " 'bediamonded': 679,\n",
              " 'crescent': 680,\n",
              " 'watched': 681,\n",
              " 'holes': 682,\n",
              " 'earth': 683,\n",
              " 'selfclear': 684,\n",
              " 'steeple': 685,\n",
              " 'fur': 686,\n",
              " 'trade': 687,\n",
              " 'live': 688,\n",
              " 'together': 689,\n",
              " 'pull': 690,\n",
              " 'apart': 691,\n",
              " 'quickening': 692,\n",
              " 'spell': 693,\n",
              " 'oer': 694,\n",
              " 'pass': 695,\n",
              " 'fever': 696,\n",
              " 'moonbeam': 697,\n",
              " 'hangs': 698,\n",
              " 'sos': 699,\n",
              " 'moon': 700,\n",
              " 'woe': 701,\n",
              " 'sublime': 702,\n",
              " 'clad': 703,\n",
              " 'white': 704,\n",
              " 'violet': 705,\n",
              " 'bank': 706,\n",
              " 'doll': 707,\n",
              " 'pasture': 708,\n",
              " 'rig': 709,\n",
              " 'loveless': 710,\n",
              " 'flock': 711,\n",
              " 'alas': 712,\n",
              " 'cannot': 713,\n",
              " 'feel': 714,\n",
              " 'tis': 715,\n",
              " 'feeling': 716,\n",
              " 'ranged': 717,\n",
              " 'cellarstairs': 718,\n",
              " 'feather': 719,\n",
              " 'upturned': 720,\n",
              " 'faces': 721,\n",
              " 'thousand': 722,\n",
              " 'smith': 723,\n",
              " 'hadnt': 724,\n",
              " 'strong': 725,\n",
              " 'couldnt': 726,\n",
              " 'call': 727,\n",
              " 'aint': 728,\n",
              " 'isnt': 729,\n",
              " 'seen': 730,\n",
              " 'tears': 731,\n",
              " 'dry': 732,\n",
              " 'because': 733,\n",
              " 'grassy': 734,\n",
              " 'wanted': 735,\n",
              " 'wear': 736,\n",
              " 'sort': 737,\n",
              " 'fervid': 738,\n",
              " 'flickering': 739,\n",
              " 'torch': 740,\n",
              " 'lit': 741,\n",
              " 'thrown': 742,\n",
              " 'replied': 743,\n",
              " 'dreaming': 744,\n",
              " 'wantonest': 745,\n",
              " 'singing': 746,\n",
              " 'strange': 747,\n",
              " 'city': 748,\n",
              " 'beaded': 749,\n",
              " 'flashed': 750,\n",
              " 'licked': 751,\n",
              " 'along': 752,\n",
              " 'upper': 753,\n",
              " 'teeth': 754,\n",
              " 'angel': 755,\n",
              " 'israfel': 756,\n",
              " 'hardly': 757,\n",
              " 'breathe': 758,\n",
              " 'among': 759,\n",
              " 'raspberries': 760,\n",
              " 'hew': 761,\n",
              " 'shape': 762,\n",
              " 'swellings': 763,\n",
              " 'hint': 764,\n",
              " 'go': 765,\n",
              " 'shouting': 766,\n",
              " 'dead': 767,\n",
              " 'souls': 768,\n",
              " 'asked': 769,\n",
              " 'wet': 770,\n",
              " 'stampede': 771,\n",
              " 'distinct': 772,\n",
              " 'world': 773,\n",
              " 'uncommonly': 774,\n",
              " 'snow': 775,\n",
              " 'wrote': 776,\n",
              " 'roses': 777,\n",
              " 'odors': 778,\n",
              " 'sacred': 779,\n",
              " 'weeping': 780,\n",
              " 'bless': 781,\n",
              " 'nighttime': 782,\n",
              " 'ten': 783,\n",
              " 'oclock': 784,\n",
              " 'eve': 785,\n",
              " 'lo': 786,\n",
              " 'death': 787,\n",
              " 'reard': 788,\n",
              " 'throne': 789,\n",
              " 'does': 790,\n",
              " 'look': 791,\n",
              " 'wed': 792,\n",
              " 'kept': 793,\n",
              " 'ourselves': 794,\n",
              " 'mad': 795,\n",
              " 'pride': 796,\n",
              " 'intellectuality': 797,\n",
              " 'expanding': 798,\n",
              " 'fingerpieces': 799,\n",
              " 'slid': 800,\n",
              " 'directions': 801,\n",
              " 'why': 802,\n",
              " 'seats': 803,\n",
              " 'wall': 804,\n",
              " 'goodbye': 805,\n",
              " 'dimremembered': 806,\n",
              " 'story': 807,\n",
              " 'confusion': 808,\n",
              " 'crew': 809,\n",
              " 'failed': 810,\n",
              " 'broke': 811,\n",
              " 'trance': 812,\n",
              " 'suspicious': 813,\n",
              " 'return': 814,\n",
              " 'lovelight': 815,\n",
              " 'lying': 816,\n",
              " 'fell': 817,\n",
              " 'rejected': 818,\n",
              " 'studying': 819,\n",
              " 'genealogy': 820,\n",
              " 'french': 821,\n",
              " 'indian': 822,\n",
              " 'esquimaux': 823,\n",
              " 'shouldnt': 824,\n",
              " 'married': 825,\n",
              " 'outdoor': 826,\n",
              " 'work': 827,\n",
              " 'four': 828,\n",
              " 'yours': 829,\n",
              " 'mine': 830,\n",
              " 'branch': 831,\n",
              " 'talk': 832,\n",
              " 'woman': 833,\n",
              " 'afterward': 834,\n",
              " 'signify': 835,\n",
              " 'cars': 836,\n",
              " 'bottle': 837,\n",
              " 'incense': 838,\n",
              " 'slumbering': 839,\n",
              " 'smiled': 840,\n",
              " 'parterre': 841,\n",
              " 'enchanted': 842,\n",
              " 'monolithic': 843,\n",
              " 'knees': 844,\n",
              " 'former': 845,\n",
              " 'chance': 846,\n",
              " 'fullorbed': 847,\n",
              " 'soaring': 848,\n",
              " 'poetry': 849,\n",
              " 'presence': 850,\n",
              " 'bird': 851,\n",
              " 'alight': 852,\n",
              " 'nor': 853,\n",
              " 'grannys': 854,\n",
              " 'much': 855,\n",
              " 'signals': 856,\n",
              " 'endless': 857,\n",
              " 'ages': 858,\n",
              " 'cherish': 859,\n",
              " 'fame': 860,\n",
              " 'snapped': 861,\n",
              " 'times': 862,\n",
              " 'eat': 863,\n",
              " 'barrel': 864,\n",
              " 'voted': 865,\n",
              " 'ever': 866,\n",
              " 'pauses': 867,\n",
              " 'roof': 868,\n",
              " 'float': 869,\n",
              " 'flow': 870,\n",
              " 'brought': 871,\n",
              " 'dread': 872,\n",
              " 'burden': 873,\n",
              " 'stifling': 874,\n",
              " 'odor': 875,\n",
              " 'sap': 876,\n",
              " 'viola': 877,\n",
              " 'follow': 878,\n",
              " 'theres': 879,\n",
              " 'wrong': 880,\n",
              " 'seem': 881,\n",
              " 'courage': 882,\n",
              " 'through': 883,\n",
              " 'alley': 884,\n",
              " 'titanic': 885,\n",
              " 'over': 886,\n",
              " 'houses': 887,\n",
              " 'another': 888,\n",
              " 'street': 889,\n",
              " 'coming': 890,\n",
              " 'speel': 891,\n",
              " 'every': 892,\n",
              " 'single': 893,\n",
              " 'lizard': 894,\n",
              " 'childrens': 895,\n",
              " 'business': 896,\n",
              " 'firsts': 897,\n",
              " 'governor': 898,\n",
              " 'proclaimed': 899,\n",
              " 'case': 900,\n",
              " 'son': 901,\n",
              " 'table': 902,\n",
              " 'rear': 903,\n",
              " 'mormon': 904,\n",
              " 'swimming': 905,\n",
              " 'promised': 906,\n",
              " 'cruel': 907,\n",
              " 'consent': 908,\n",
              " 'sign': 909,\n",
              " 'reply': 910,\n",
              " 'intelligence': 911,\n",
              " 'rule': 912,\n",
              " 'arm': 913,\n",
              " 'saturn': 914,\n",
              " 'mars': 915,\n",
              " 'folk': 916,\n",
              " 'fiftyfive': 917,\n",
              " 'acquainted': 918,\n",
              " 'voice': 919,\n",
              " 'stars': 920,\n",
              " 'i—': 921,\n",
              " 'leaves': 922,\n",
              " 'crisped': 923,\n",
              " 'sere': 924,\n",
              " 'partial': 925,\n",
              " 'greatgrandmother': 926,\n",
              " 'storm': 927,\n",
              " 'gushing': 928,\n",
              " 'stamped': 929,\n",
              " 'drawn': 930,\n",
              " 'hole': 931,\n",
              " 'visions': 932,\n",
              " 'maiden': 933,\n",
              " 'headshake': 934,\n",
              " 'champions': 935,\n",
              " 'devoted': 936,\n",
              " 'brave': 937,\n",
              " 'youll': 938,\n",
              " 'expecting': 939,\n",
              " 'pity': 940,\n",
              " 'heres': 941,\n",
              " 'hoping': 942,\n",
              " 'gets': 943,\n",
              " 'drink': 944,\n",
              " 'ultimate': 945,\n",
              " 'climes': 946,\n",
              " 'pole': 947,\n",
              " 'might': 948,\n",
              " 'short': 949,\n",
              " 'facts': 950,\n",
              " 'want': 951,\n",
              " 'remaining': 952,\n",
              " 'aster': 953,\n",
              " 'flower': 954,\n",
              " 'seeking': 955,\n",
              " 'hampshire': 956,\n",
              " 'waves': 957,\n",
              " 'redder': 958,\n",
              " 'glow': 959,\n",
              " 'cross': 960,\n",
              " 'lots': 961,\n",
              " 'rude': 962,\n",
              " 'instant': 963,\n",
              " 'strife': 964,\n",
              " 'ghoulhaunted': 965,\n",
              " 'woodland': 966,\n",
              " 'weir': 967,\n",
              " 'closes': 968,\n",
              " 'garden': 969,\n",
              " 'path': 970,\n",
              " 'shes': 971,\n",
              " 'neighbours': 972,\n",
              " 'sell': 973,\n",
              " 'theyre': 974,\n",
              " 'worth': 975,\n",
              " 'keep': 976,\n",
              " 'minute': 977,\n",
              " 'step': 978,\n",
              " 'venuses': 979,\n",
              " 'unextinguished': 980,\n",
              " 'skyhigh': 981,\n",
              " 'hands': 982,\n",
              " 'unimpassioned': 983,\n",
              " 'israfelis': 984,\n",
              " 'lord': 985,\n",
              " 'dream': 986,\n",
              " 'everyone': 987,\n",
              " 'shelter': 988,\n",
              " 'happier': 989,\n",
              " 'star': 990,\n",
              " 'chains': 991,\n",
              " 'pearl': 992,\n",
              " 'hermon': 993,\n",
              " 'conquered': 994,\n",
              " 'scruples': 995,\n",
              " 'feared': 996,\n",
              " 'truest': 997,\n",
              " 'fervently': 998,\n",
              " 'yawning': 999,\n",
              " ...}"
            ]
          },
          "metadata": {},
          "execution_count": 33
        }
      ]
    },
    {
      "cell_type": "code",
      "source": [
        "word2idx['yawning']"
      ],
      "metadata": {
        "colab": {
          "base_uri": "https://localhost:8080/"
        },
        "id": "dEoj9P_CQve1",
        "outputId": "5b835b10-c99d-4fad-b4ff-38b2254f82eb"
      },
      "execution_count": null,
      "outputs": [
        {
          "output_type": "execute_result",
          "data": {
            "text/plain": [
              "999"
            ]
          },
          "metadata": {},
          "execution_count": 38
        }
      ]
    },
    {
      "cell_type": "code",
      "source": [
        "len(word2idx)"
      ],
      "metadata": {
        "colab": {
          "base_uri": "https://localhost:8080/"
        },
        "id": "m9mEPciYPQtK",
        "outputId": "a544ea19-8124-467d-a6bc-fff8df8f2ada"
      },
      "execution_count": null,
      "outputs": [
        {
          "output_type": "execute_result",
          "data": {
            "text/plain": [
              "2498"
            ]
          },
          "metadata": {},
          "execution_count": 34
        }
      ]
    },
    {
      "cell_type": "code",
      "source": [
        "text_train[0]"
      ],
      "metadata": {
        "colab": {
          "base_uri": "https://localhost:8080/",
          "height": 35
        },
        "id": "Af-6Bal9QFiO",
        "outputId": "2de889dc-c9b5-4125-b5fd-47fc3dbbb893"
      },
      "execution_count": null,
      "outputs": [
        {
          "output_type": "execute_result",
          "data": {
            "text/plain": [
              "'will start which lately slept in apathy'"
            ],
            "application/vnd.google.colaboratory.intrinsic+json": {
              "type": "string"
            }
          },
          "metadata": {},
          "execution_count": 35
        }
      ]
    },
    {
      "cell_type": "code",
      "source": [
        "#Practice\n",
        "for text in text_train:\n",
        "  tokens = text.split()\n",
        "  line_as_int = [word2idx[token] for token in tokens]\n",
        "print(line_as_int)"
      ],
      "metadata": {
        "colab": {
          "base_uri": "https://localhost:8080/"
        },
        "id": "Axo1ta8PQg4v",
        "outputId": "c7ad96af-ed8d-450a-a449-18e00649935f"
      },
      "execution_count": null,
      "outputs": [
        {
          "output_type": "stream",
          "name": "stdout",
          "text": [
            "[2497, 101, 1462, 47, 416, 91, 47, 54]\n"
          ]
        }
      ]
    },
    {
      "cell_type": "code",
      "source": [
        "t = ['words 1','game 2']\n",
        "[x.split() for x in t]"
      ],
      "metadata": {
        "colab": {
          "base_uri": "https://localhost:8080/"
        },
        "id": "PO0hsZweRDHF",
        "outputId": "2b80c1e0-5f51-41b5-b7d2-9b6e8aeebeb0"
      },
      "execution_count": null,
      "outputs": [
        {
          "output_type": "execute_result",
          "data": {
            "text/plain": [
              "[['words', '1'], ['game', '2']]"
            ]
          },
          "metadata": {},
          "execution_count": 42
        }
      ]
    },
    {
      "cell_type": "code",
      "source": [
        "t = text_test[0]\n",
        "print([x.split() for x in t])"
      ],
      "metadata": {
        "colab": {
          "base_uri": "https://localhost:8080/"
        },
        "id": "GlC1teNxSCAY",
        "outputId": "3fcedfae-2dd7-4ced-fe74-f8019104e9f5"
      },
      "execution_count": null,
      "outputs": [
        {
          "output_type": "stream",
          "name": "stdout",
          "text": [
            "[['y'], ['o'], ['u'], ['r'], [], ['d'], ['e'], ['s'], ['t'], ['i'], ['n'], ['a'], ['t'], ['i'], ['o'], ['n'], [], ['a'], ['n'], ['d'], [], ['y'], ['o'], ['u'], ['r'], [], ['d'], ['e'], ['s'], ['t'], ['i'], ['n'], ['y'], ['s']]\n"
          ]
        }
      ]
    },
    {
      "cell_type": "code",
      "source": [
        "#convert data into integer format\n",
        "# convert words into its integer eqvt using some matrix\n",
        "\n",
        "text_train_int = []  #empty list for text_train data(X_train)\n",
        "text_test_int = []   # for text_test(X_test)\n",
        "\n",
        "for text in text_train:\n",
        "  tokens = text.split()\n",
        "  line_as_int = [word2idx[token] for token in tokens]\n",
        "  text_train_int.append(line_as_int)\n",
        "\n",
        "for text in text_test:\n",
        "  tokens = text.split()\n",
        "  line_as_int = [word2idx.get(token,0) for token in tokens]\n",
        "  #.get(str,key) for unkn value present in test & not in train data\n",
        "  text_test_int.append(line_as_int)"
      ],
      "metadata": {
        "id": "LttE44RHPXkz"
      },
      "execution_count": null,
      "outputs": []
    },
    {
      "cell_type": "markdown",
      "source": [
        ".get(__key: str, /) -> (int | None)\n",
        "\n",
        "Return the value for key if key is in the dictionary, else default"
      ],
      "metadata": {
        "id": "oxP-W-58TGiK"
      }
    },
    {
      "cell_type": "code",
      "source": [
        "#Lets see if it worked\n",
        "text_train_int[100:108]  #random indexing"
      ],
      "metadata": {
        "colab": {
          "base_uri": "https://localhost:8080/"
        },
        "id": "Dzx14fRWTBXL",
        "outputId": "f4ea3db1-fbbf-4b7a-898a-46b717be701d"
      },
      "execution_count": null,
      "outputs": [
        {
          "output_type": "execute_result",
          "data": {
            "text/plain": [
              "[[45, 378, 45, 100, 20, 379, 194, 237, 115, 380],\n",
              " [381, 256, 194, 93, 146, 382, 383, 384, 206],\n",
              " [20, 385, 386, 133, 81, 81, 54, 153, 387],\n",
              " [388, 47, 14, 389, 47, 390, 89, 320, 36, 391],\n",
              " [212, 392, 137, 104, 100, 20, 393],\n",
              " [220, 394, 49, 395, 53, 396, 366, 51, 397],\n",
              " [61, 146, 267, 47, 39, 398, 341, 399, 8, 255],\n",
              " [244, 25, 400, 25, 400, 10, 401]]"
            ]
          },
          "metadata": {},
          "execution_count": 47
        }
      ]
    },
    {
      "cell_type": "code",
      "source": [
        "text_test_int[10:20]"
      ],
      "metadata": {
        "colab": {
          "base_uri": "https://localhost:8080/"
        },
        "id": "P8Z22GJJTUhW",
        "outputId": "bb17052f-5e88-45f0-bcf8-483974f54baf"
      },
      "execution_count": null,
      "outputs": [
        {
          "output_type": "execute_result",
          "data": {
            "text/plain": [
              "[[0, 244, 8, 0, 0],\n",
              " [12, 81, 321],\n",
              " [14, 1312, 134, 557, 18, 64, 1009, 41, 1313],\n",
              " [20, 202, 51, 165, 0, 557, 14, 0],\n",
              " [267, 1907, 56, 1823, 146, 6, 64, 0],\n",
              " [36, 20, 292, 0, 28, 274],\n",
              " [194, 1, 115, 0, 8, 0, 47, 779],\n",
              " [165, 1440, 426],\n",
              " [729, 45, 1139, 39, 299, 25, 951, 8, 266],\n",
              " [89, 320, 8, 2474, 100, 0, 0]]"
            ]
          },
          "metadata": {},
          "execution_count": 48
        }
      ]
    },
    {
      "cell_type": "code",
      "source": [
        "#lets build A & pi matices - for both classes\n",
        "# No of classes = No of Markov Models\n",
        "V = len(word2idx)  #V = Vocabulary Size\n",
        "\n",
        "A0 = np.ones((V,V))\n",
        "pi0 = np.ones(V)\n",
        "\n",
        "A1 = np.ones((V,V))\n",
        "pi1 = np.ones(V)"
      ],
      "metadata": {
        "id": "prvapR3QTkij"
      },
      "execution_count": null,
      "outputs": []
    },
    {
      "cell_type": "code",
      "source": [
        "# compute counts for A and pi\n",
        "# Populate A's & pi's\n",
        "def compute_counts(text_as_int, A, pi):\n",
        "  for tokens in text_as_int:\n",
        "    last_idx = None #This will help us realise if we are populating A or pi.\n",
        "\n",
        "    for idx in tokens:\n",
        "      if last_idx is None:\n",
        "        #it's the first word in a sentance\n",
        "        pi[idx] += 1\n",
        "      else:\n",
        "        # the last word exists ,so count a transition\n",
        "        A[last_idx,idx] +=1\n",
        "\n",
        "      #update last idx\n",
        "      last_idx = idx\n",
        "\n",
        "#for class = 0\n",
        "compute_counts([t for t,y in zip(text_train_int,y_train) if y == 0],A0,pi0)\n",
        "#for class = 1\n",
        "compute_counts([t for t,y in zip(text_train_int,y_train) if y == 1],A1,pi1)"
      ],
      "metadata": {
        "id": "GRcE3VzHUNi_"
      },
      "execution_count": null,
      "outputs": []
    },
    {
      "cell_type": "code",
      "source": [
        "#normalize A and pi so they are valid probability matrices\n",
        "#convince yourself that this is eqvt to the formulas shown before.\n",
        "# keepdims imp as A are 2d array & to divide it in numpy ,we need to keep shape intact.\n",
        "A0 = A0/A0.sum(axis = 1,keepdims=True)  #keepdimension\n",
        "pi0 = pi0/pi0.sum()\n",
        "\n",
        "A1 = A1/A1.sum(axis = 1,keepdims = True)\n",
        "pi1 = pi1/pi1.sum()\n"
      ],
      "metadata": {
        "id": "fQeTeOU1WSRi"
      },
      "execution_count": null,
      "outputs": []
    },
    {
      "cell_type": "code",
      "source": [
        "A0"
      ],
      "metadata": {
        "colab": {
          "base_uri": "https://localhost:8080/"
        },
        "id": "xB-htSvbXeLj",
        "outputId": "0996a081-e291-49ea-e464-2879ad770fbe"
      },
      "execution_count": null,
      "outputs": [
        {
          "output_type": "execute_result",
          "data": {
            "text/plain": [
              "array([[0.00040032, 0.00040032, 0.00040032, ..., 0.00040032, 0.00040032,\n",
              "        0.00040032],\n",
              "       [0.00039936, 0.00039936, 0.00119808, ..., 0.00039936, 0.00039936,\n",
              "        0.00039936],\n",
              "       [0.0004    , 0.0004    , 0.0004    , ..., 0.0004    , 0.0004    ,\n",
              "        0.0004    ],\n",
              "       ...,\n",
              "       [0.00040032, 0.00040032, 0.00040032, ..., 0.00040032, 0.00040032,\n",
              "        0.00040032],\n",
              "       [0.00040032, 0.00040032, 0.00040032, ..., 0.00040032, 0.00040032,\n",
              "        0.00040032],\n",
              "       [0.00040032, 0.00040032, 0.00040032, ..., 0.00040032, 0.00040032,\n",
              "        0.00040032]])"
            ]
          },
          "metadata": {},
          "execution_count": 52
        }
      ]
    },
    {
      "cell_type": "code",
      "source": [
        "pi0"
      ],
      "metadata": {
        "colab": {
          "base_uri": "https://localhost:8080/"
        },
        "id": "6ZQv8jwZXfVs",
        "outputId": "bf871598-8e26-4ecc-904f-04162f7bfaa6"
      },
      "execution_count": null,
      "outputs": [
        {
          "output_type": "execute_result",
          "data": {
            "text/plain": [
              "array([0.00032895, 0.00098684, 0.00032895, ..., 0.00032895, 0.00032895,\n",
              "       0.00032895])"
            ]
          },
          "metadata": {},
          "execution_count": 53
        }
      ]
    },
    {
      "cell_type": "code",
      "source": [
        "#since we dont need actual probabilties,take log\n",
        "logA0 = np.log(A0)\n",
        "logpi0 = np.log(pi0)\n",
        "\n",
        "logA1 = np.log(A1)\n",
        "logpi1 = np.log(pi1)"
      ],
      "metadata": {
        "id": "jkJjnmXRXhqj"
      },
      "execution_count": null,
      "outputs": []
    },
    {
      "cell_type": "code",
      "source": [
        "logA0"
      ],
      "metadata": {
        "colab": {
          "base_uri": "https://localhost:8080/"
        },
        "id": "MTgYKFZRX0Bp",
        "outputId": "51f32970-33e1-456e-dd69-21a4386f9e54"
      },
      "execution_count": null,
      "outputs": [
        {
          "output_type": "execute_result",
          "data": {
            "text/plain": [
              "array([[-7.82324569, -7.82324569, -7.82324569, ..., -7.82324569,\n",
              "        -7.82324569, -7.82324569],\n",
              "       [-7.82564473, -7.82564473, -6.72703244, ..., -7.82564473,\n",
              "        -7.82564473, -7.82564473],\n",
              "       [-7.82404601, -7.82404601, -7.82404601, ..., -7.82404601,\n",
              "        -7.82404601, -7.82404601],\n",
              "       ...,\n",
              "       [-7.82324569, -7.82324569, -7.82324569, ..., -7.82324569,\n",
              "        -7.82324569, -7.82324569],\n",
              "       [-7.82324569, -7.82324569, -7.82324569, ..., -7.82324569,\n",
              "        -7.82324569, -7.82324569],\n",
              "       [-7.82324569, -7.82324569, -7.82324569, ..., -7.82324569,\n",
              "        -7.82324569, -7.82324569]])"
            ]
          },
          "metadata": {},
          "execution_count": 55
        }
      ]
    },
    {
      "cell_type": "code",
      "source": [
        "logpi0"
      ],
      "metadata": {
        "colab": {
          "base_uri": "https://localhost:8080/"
        },
        "id": "fS0OqETzX1ZS",
        "outputId": "493cef63-f550-40cc-d1c0-1b6abd1a8822"
      },
      "execution_count": null,
      "outputs": [
        {
          "output_type": "execute_result",
          "data": {
            "text/plain": [
              "array([-8.01961279, -6.92100051, -8.01961279, ..., -8.01961279,\n",
              "       -8.01961279, -8.01961279])"
            ]
          },
          "metadata": {},
          "execution_count": 56
        }
      ]
    },
    {
      "cell_type": "code",
      "source": [
        "#compute priors\n",
        "#Lets see how many samples belong to class 0 & 1\n",
        "count0 = sum(y==0 for y in y_train)\n",
        "count1 = sum(y==1 for y in y_train)\n",
        "\n",
        "total = len(y_train)\n",
        "\n",
        "#compute prior probabilities\n",
        "p0 = count0 / total\n",
        "p1 = count1 / total\n",
        "#its log\n",
        "logp0 = np.log(p0)\n",
        "logp1 = np.log(p1)\n",
        "\n",
        "p0,p1"
      ],
      "metadata": {
        "colab": {
          "base_uri": "https://localhost:8080/"
        },
        "id": "4VPyZ6stX3Rb",
        "outputId": "62a0998b-d1fa-4e33-89c3-410db9b4251a"
      },
      "execution_count": null,
      "outputs": [
        {
          "output_type": "execute_result",
          "data": {
            "text/plain": [
              "(0.33560371517027865, 0.6643962848297214)"
            ]
          },
          "metadata": {},
          "execution_count": 57
        }
      ]
    },
    {
      "cell_type": "code",
      "source": [
        "# It seems classes are imbalanced."
      ],
      "metadata": {
        "id": "g_q_obQpZVhO"
      },
      "execution_count": null,
      "outputs": []
    },
    {
      "cell_type": "code",
      "source": [
        "#finally lets build a classifier\n",
        "class classifier:     #constructor\n",
        "  def __init__(self,logAs, logpis,logpriors):\n",
        "    self.logAs = logAs\n",
        "    self.logpis = logpis\n",
        "    self.logpriors = logpriors\n",
        "    self.K = len(logpriors)  #No of classes\n",
        "\n",
        "  def _compute_log_likelyhood(self,input_,class_):\n",
        "    logA = self.logAs[class_]\n",
        "    logpi = self.logpis[class_]\n",
        "\n",
        "    last_idx = None\n",
        "    logprob = 0\n",
        "    for idx in input_:\n",
        "      if last_idx is None:\n",
        "        #its the first token\n",
        "        logprob += logpi[idx]\n",
        "      else:                     #logprob not none\n",
        "        logprob += logA[last_idx,idx]\n",
        "\n",
        "      #update last idx\n",
        "      last_idx = idx\n",
        "\n",
        "    return logprob\n",
        "  def predict(self,inputs):\n",
        "    predictions = np.zeros(len(inputs))\n",
        "    for i ,input_ in enumerate(inputs):\n",
        "      posteriors = [self._compute_log_likelyhood(input_,c) + self.logpriors[c] for c in range(self.K)]\n",
        "\n",
        "      pred = np.argmax(posteriors)\n",
        "      predictions[i] = pred\n",
        "    return predictions\n",
        "\n"
      ],
      "metadata": {
        "id": "siB--bDbZIFj"
      },
      "execution_count": null,
      "outputs": []
    },
    {
      "cell_type": "code",
      "source": [
        "#each arry must be in order since classes are assumed to index these lists\n",
        "clf = classifier([logA0, logA1], [logpi0, logpi1],[logp0,logp1])"
      ],
      "metadata": {
        "id": "AzOA4NvDb2G-"
      },
      "execution_count": null,
      "outputs": []
    },
    {
      "cell_type": "code",
      "source": [
        "Ptrain = clf.predict(text_train_int)\n",
        "print(f\"Train accuracy: {np.mean(Ptrain == y_train)}\")"
      ],
      "metadata": {
        "colab": {
          "base_uri": "https://localhost:8080/"
        },
        "id": "QKZ2HDDzcdb2",
        "outputId": "f8af7732-a12f-4aca-ef3e-fcef7281de1c"
      },
      "execution_count": null,
      "outputs": [
        {
          "output_type": "stream",
          "name": "stdout",
          "text": [
            "Train accuracy: 0.9956656346749226\n"
          ]
        }
      ]
    },
    {
      "cell_type": "code",
      "source": [
        "Ptest = clf.predict(text_test_int)\n",
        "print(f\"Test accuracy: {np.mean(Ptest == y_test)}\")\n"
      ],
      "metadata": {
        "colab": {
          "base_uri": "https://localhost:8080/"
        },
        "id": "NPyIvW2VcqKG",
        "outputId": "0aaf0211-6307-4122-ca9d-dae5a15c7db7"
      },
      "execution_count": null,
      "outputs": [
        {
          "output_type": "stream",
          "name": "stdout",
          "text": [
            "Test accuracy: 0.8163265306122449\n"
          ]
        }
      ]
    },
    {
      "cell_type": "code",
      "source": [
        "#import metrics\n",
        "from sklearn.metrics import confusion_matrix,f1_score"
      ],
      "metadata": {
        "id": "brwUccVqdQNN"
      },
      "execution_count": null,
      "outputs": []
    },
    {
      "cell_type": "code",
      "source": [
        "cm_train = confusion_matrix(y_train,Ptrain)"
      ],
      "metadata": {
        "id": "SRYlfSsndafa"
      },
      "execution_count": null,
      "outputs": []
    },
    {
      "cell_type": "code",
      "source": [
        "cm_train"
      ],
      "metadata": {
        "colab": {
          "base_uri": "https://localhost:8080/"
        },
        "id": "bN9b8ylmdfXQ",
        "outputId": "d966f04f-935a-47b1-95e4-8671b5db9886"
      },
      "execution_count": null,
      "outputs": [
        {
          "output_type": "execute_result",
          "data": {
            "text/plain": [
              "array([[ 535,    7],\n",
              "       [   0, 1073]])"
            ]
          },
          "metadata": {},
          "execution_count": 70
        }
      ]
    },
    {
      "cell_type": "code",
      "source": [
        "cm_test = confusion_matrix(y_test,Ptest)\n",
        "cm_test"
      ],
      "metadata": {
        "colab": {
          "base_uri": "https://localhost:8080/"
        },
        "id": "9dXfR2Tkdt6I",
        "outputId": "2b171580-45c0-4a45-bd52-0dbe3db9eea0"
      },
      "execution_count": null,
      "outputs": [
        {
          "output_type": "execute_result",
          "data": {
            "text/plain": [
              "array([[ 89,  87],\n",
              "       [ 12, 351]])"
            ]
          },
          "metadata": {},
          "execution_count": 71
        }
      ]
    },
    {
      "cell_type": "code",
      "source": [
        "f1_score(y_train,Ptrain)"
      ],
      "metadata": {
        "colab": {
          "base_uri": "https://localhost:8080/"
        },
        "id": "QQe-SWU6djPg",
        "outputId": "f84cc6a9-276b-45b1-b71c-a1f11ab93139"
      },
      "execution_count": null,
      "outputs": [
        {
          "output_type": "execute_result",
          "data": {
            "text/plain": [
              "0.9967487227124942"
            ]
          },
          "metadata": {},
          "execution_count": 72
        }
      ]
    },
    {
      "cell_type": "code",
      "source": [
        "f1_score(y_test,Ptest)"
      ],
      "metadata": {
        "colab": {
          "base_uri": "https://localhost:8080/"
        },
        "id": "ZDte__hfeEdV",
        "outputId": "a5dd3cfc-0b40-4535-f6cd-66e639736be7"
      },
      "execution_count": null,
      "outputs": [
        {
          "output_type": "execute_result",
          "data": {
            "text/plain": [
              "0.8764044943820225"
            ]
          },
          "metadata": {},
          "execution_count": 73
        }
      ]
    },
    {
      "cell_type": "code",
      "source": [
        "#Thank you!"
      ],
      "metadata": {
        "id": "hiWgVcSVeHcT"
      },
      "execution_count": null,
      "outputs": []
    },
    {
      "cell_type": "code",
      "source": [],
      "metadata": {
        "id": "Wh0_FD_BebKV"
      },
      "execution_count": null,
      "outputs": []
    }
  ]
}